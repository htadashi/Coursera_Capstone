{
  "nbformat": 4,
  "nbformat_minor": 0,
  "metadata": {
    "colab": {
      "name": "capstone_project.ipynb",
      "provenance": [],
      "authorship_tag": "ABX9TyM8I/X49/8/0Or0iRn+QFEG",
      "include_colab_link": true
    },
    "kernelspec": {
      "name": "python3",
      "display_name": "Python 3"
    }
  },
  "cells": [
    {
      "cell_type": "markdown",
      "metadata": {
        "id": "view-in-github",
        "colab_type": "text"
      },
      "source": [
        "<a href=\"https://colab.research.google.com/github/htadashi/Coursera_Capstone/blob/master/capstone_project.ipynb\" target=\"_parent\"><img src=\"https://colab.research.google.com/assets/colab-badge.svg\" alt=\"Open In Colab\"/></a>"
      ]
    },
    {
      "cell_type": "markdown",
      "metadata": {
        "id": "VEQHdbiqeYjv",
        "colab_type": "text"
      },
      "source": [
        "# Capstone Project for IBM Data Science Professional Certificate\n",
        "\n",
        "This notebook will be mainly used for the capstone project proposed \n",
        "in the course [Applied Data Science Capstone](https://www.coursera.org/learn/applied-data-science-capstone).\n"
      ]
    },
    {
      "cell_type": "code",
      "metadata": {
        "id": "m7oWpL5eeWUn",
        "colab_type": "code",
        "colab": {
          "base_uri": "https://localhost:8080/",
          "height": 34
        },
        "outputId": "553165f8-a978-43df-c17b-cd760b72aed6"
      },
      "source": [
        "import pandas as pd\n",
        "import numpy as np\n",
        "\n",
        "print('Hello Capstone Project Course!')"
      ],
      "execution_count": 2,
      "outputs": [
        {
          "output_type": "stream",
          "text": [
            "Hello Capstone Project Course!\n"
          ],
          "name": "stdout"
        }
      ]
    }
  ]
}